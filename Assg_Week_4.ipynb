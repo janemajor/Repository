{
  "nbformat": 4,
  "nbformat_minor": 0,
  "metadata": {
    "colab": {
      "name": "Assg Week 4",
      "provenance": [],
      "authorship_tag": "ABX9TyNTL5KG5IN0PNU7wi3ySPA5",
      "include_colab_link": true
    },
    "kernelspec": {
      "name": "python3",
      "display_name": "Python 3"
    }
  },
  "cells": [
    {
      "cell_type": "markdown",
      "metadata": {
        "id": "view-in-github",
        "colab_type": "text"
      },
      "source": [
        "<a href=\"https://colab.research.google.com/github/janemajor/Repository/blob/master/Assg_Week_4.ipynb\" target=\"_parent\"><img src=\"https://colab.research.google.com/assets/colab-badge.svg\" alt=\"Open In Colab\"/></a>"
      ]
    },
    {
      "cell_type": "code",
      "metadata": {
        "id": "D4D7qEJt1ba4",
        "colab_type": "code",
        "colab": {}
      },
      "source": [
        "def hi():\n",
        "  print('Hello World')\n",
        "hi()\n",
        "\n",
        "def bye():\n",
        "  spam=0\n",
        "  while spam<5:\n",
        "    print('ByeByeBye')\n",
        "    spam=spam+1\n",
        "bye()\n",
        "\n",
        "\n"
      ],
      "execution_count": null,
      "outputs": []
    },
    {
      "cell_type": "code",
      "metadata": {
        "id": "iW-wEXuiJs4B",
        "colab_type": "code",
        "colab": {}
      },
      "source": [
        "def bye(number):\n",
        "  spam=0\n",
        "  while spam!=number:\n",
        "    print('ByeByeBye')\n",
        "    spam=spam+1\n",
        "bye(10)"
      ],
      "execution_count": null,
      "outputs": []
    },
    {
      "cell_type": "code",
      "metadata": {
        "id": "tTwcF_h4aFSW",
        "colab_type": "code",
        "colab": {}
      },
      "source": [
        "def square(number):\n",
        "  print(number*number)\n",
        "\n",
        "\n"
      ],
      "execution_count": null,
      "outputs": []
    },
    {
      "cell_type": "code",
      "metadata": {
        "id": "DbNr1TArbjs4",
        "colab_type": "code",
        "colab": {
          "base_uri": "https://localhost:8080/",
          "height": 34
        },
        "outputId": "de658364-4940-405d-ee15-d59676b4b941"
      },
      "source": [
        "def bigger10(num):\n",
        "  if num>10:\n",
        "    print(num)\n",
        "  if num<10:\n",
        "    print(10)\n",
        "\n",
        "bigger10(70)"
      ],
      "execution_count": 16,
      "outputs": [
        {
          "output_type": "stream",
          "text": [
            "70\n"
          ],
          "name": "stdout"
        }
      ]
    },
    {
      "cell_type": "code",
      "metadata": {
        "id": "yegQymsPdQj5",
        "colab_type": "code",
        "colab": {
          "base_uri": "https://localhost:8080/",
          "height": 102
        },
        "outputId": "3c1b31c1-084e-4560-f339-33500f1270df"
      },
      "source": [
        "def bigger(first, second):\n",
        "  if first>second:\n",
        "    print(first)\n",
        "  if second>first:\n",
        "    print(second)\n",
        "\n",
        "print(\"enter your age\")\n",
        "first=input()\n",
        "print(\"enter your friend's age\")\n",
        "second=input()\n",
        "\n",
        "print(\"The older of the two is \", end=\"\")\n",
        "bigger(first, second)\n",
        "\n",
        "\n"
      ],
      "execution_count": 25,
      "outputs": [
        {
          "output_type": "stream",
          "text": [
            "enter your age\n",
            "12\n",
            "enter your friend's age\n",
            "44\n",
            "The older of the two is 44\n"
          ],
          "name": "stdout"
        }
      ]
    },
    {
      "cell_type": "code",
      "metadata": {
        "id": "lK7oqES1dngL",
        "colab_type": "code",
        "colab": {}
      },
      "source": [
        "print(\"enter your age\")\n",
        "first=input()\n",
        "print(\"enter your friend's age\")\n",
        "second=input()"
      ],
      "execution_count": null,
      "outputs": []
    }
  ]
}