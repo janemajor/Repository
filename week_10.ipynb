{
  "nbformat": 4,
  "nbformat_minor": 0,
  "metadata": {
    "colab": {
      "name": "week 10",
      "provenance": [],
      "authorship_tag": "ABX9TyPP6FzdFbt7P2pnBDqO+ZUC",
      "include_colab_link": true
    },
    "kernelspec": {
      "name": "python3",
      "display_name": "Python 3"
    }
  },
  "cells": [
    {
      "cell_type": "markdown",
      "metadata": {
        "id": "view-in-github",
        "colab_type": "text"
      },
      "source": [
        "<a href=\"https://colab.research.google.com/github/janemajor/Repository/blob/master/week_10.ipynb\" target=\"_parent\"><img src=\"https://colab.research.google.com/assets/colab-badge.svg\" alt=\"Open In Colab\"/></a>"
      ]
    },
    {
      "cell_type": "code",
      "metadata": {
        "id": "DWl642g_osFW"
      },
      "source": [
        "import urllib.request\n",
        "\n",
        "def decodestuff(file):\n",
        "  #print(file)\n",
        "  myfile=urllib.request.urlopen(file)\n",
        "  #print(myfile)\n",
        "  longstring=myfile.read()\n",
        "  #print(longstring)\n",
        "  longstring=longstring.decode(\"utf-8\")\n",
        "  #print(longstring)\n",
        "  return longstring.lower()\n",
        "\n",
        "def count_lines(file):\n",
        "  myfile=decodestuff(file)\n",
        "  linesnum=0\n",
        "  for line in myfile:\n",
        "    linesnum=linesnum+1\n",
        "  return linesnum\n",
        "\n",
        "file_name1 = \"https://raw.githubusercontent.com/mlepinski/Python-Worksheets/master/Sonnets.txt\"\n",
        "count_lines(file_name1)\n",
        "\n",
        "def lines_with_word(file, word):\n",
        "  myfile=decodestuff(file)\n",
        "  wordcount=0\n",
        "  for line in myfile.splitlines():\n",
        "    if word in line:\n",
        "      wordcount=wordcount+1\n",
        "      #print(str(wordcount), line)\n",
        "  return wordcount\n",
        "\n",
        "\n",
        "def word_count(file, x):\n",
        "  myfile=decodestuff(file)\n",
        "  counter=0\n",
        "  nolinebreaks=myfile.replace(\"\\n\", \" \")\n",
        "  list_of_words = nolinebreaks.split()\n",
        "  for w in list_of_words:\n",
        "    if w==x:\n",
        "      counter=counter+1\n",
        "      #print(str(counter), x)\n",
        "  return counter\n",
        "\n",
        "file_name = \"https://raw.githubusercontent.com/mlepinski/Python-Worksheets/master/Sonnets.txt\"\n",
        "answer1 = word_count(file_name, \"monuments\")\n",
        "#print(\"monuments appears \", answer1, \"times\")\n",
        "#answer2 = word_count(file_name, \"war\")\n",
        "#print(\"war appears\", answer2, \"times\")\n",
        "  \n",
        "def word_frequency(filename, word):\n",
        "  myfile=decodestuff(filename)\n",
        "  total=len(myfile.split())\n",
        "  print(total)\n",
        "  print(word_count(filename, word))\n",
        "  frequency=int(word_count(filename, word))/total\n",
        "  return frequency\n",
        "answer3=word_frequency(file_name, \"the\")\n",
        "print(answer3)\n"
      ],
      "execution_count": null,
      "outputs": []
    }
  ]
}