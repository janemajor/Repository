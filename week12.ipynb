{
  "nbformat": 4,
  "nbformat_minor": 0,
  "metadata": {
    "colab": {
      "name": "week12",
      "provenance": [],
      "authorship_tag": "ABX9TyNBlZXkkm6Qovqo+ta6/ML/",
      "include_colab_link": true
    },
    "kernelspec": {
      "name": "python3",
      "display_name": "Python 3"
    }
  },
  "cells": [
    {
      "cell_type": "markdown",
      "metadata": {
        "id": "view-in-github",
        "colab_type": "text"
      },
      "source": [
        "<a href=\"https://colab.research.google.com/github/janemajor/Repository/blob/master/week12.ipynb\" target=\"_parent\"><img src=\"https://colab.research.google.com/assets/colab-badge.svg\" alt=\"Open In Colab\"/></a>"
      ]
    },
    {
      "cell_type": "code",
      "metadata": {
        "colab": {
          "base_uri": "https://localhost:8080/"
        },
        "id": "8-ApASW6yof1",
        "outputId": "a6e92063-4203-40e0-e34a-fe8ffd8fcc64"
      },
      "source": [
        "import pandas\n",
        "\n",
        "file_name = \"https://raw.githubusercontent.com/mlepinski/Python-Worksheets/master/states.csv\"\n",
        "state_data = pandas.read_csv(file_name)\n",
        "\n",
        "median_pop = state_data[\"Pop\"].median()\n",
        "median_pop_row = state_data[ state_data[\"Pop\"]== median_pop]\n",
        "print(median_pop_row)\n"
      ],
      "execution_count": 5,
      "outputs": [
        {
          "output_type": "stream",
          "text": [
            "       Name State    Area      Pop\n",
            "5  Colorado    CO  104100  3294394\n"
          ],
          "name": "stdout"
        }
      ]
    },
    {
      "cell_type": "code",
      "metadata": {
        "colab": {
          "base_uri": "https://localhost:8080/"
        },
        "id": "5sG_WN0_2qcO",
        "outputId": "36ebe0f6-0b5f-4cd9-bfad-34d6a3c78606"
      },
      "source": [
        "import pandas\n",
        "\n",
        "file_name = \"https://raw.githubusercontent.com/mlepinski/Python-Worksheets/master/states.csv\"\n",
        "state_data = pandas.read_csv(file_name)\n",
        "\n",
        "countm = 0 \n",
        "\n",
        "for name in state_data[\"Name\"]:\n",
        "  if name[0] == \"M\":\n",
        "    countm = countm + 1\n",
        "\n",
        "print(countm)"
      ],
      "execution_count": 2,
      "outputs": [
        {
          "output_type": "stream",
          "text": [
            "8\n"
          ],
          "name": "stdout"
        }
      ]
    },
    {
      "cell_type": "code",
      "metadata": {
        "id": "2nqpAdQoI2ak"
      },
      "source": [
        "import pandas\n",
        "\n",
        "file_name = \"https://raw.githubusercontent.com/mlepinski/Python-Worksheets/master/states.csv\"\n",
        "state_data = pandas.read_csv(file_name)\n",
        "#pop/area\n",
        "\n",
        "state_data[\"Density\"] = state_data[\"Pop\"]/state_data[\"Area\"]\n",
        "\n",
        "state_data.head()\n",
        "state_data[\"Density\"].median()\n",
        "\n",
        "max_den = state_data[\"Density\"].max()\n",
        "max_den_row = state_data[ state_data[\"Density\"]== max_den]\n",
        "print(max_den_row)\n",
        "\n",
        "min_den = state_data[\"Density\"].min()\n",
        "min_den_row = state_data[ state_data[\"Density\"]== min_den]\n",
        "print(min_den_row)\n",
        "\n",
        "med_den = state_data[\"Density\"].median()\n",
        "med_den_row = state_data[ state_data[\"Density\"]== med_den]\n",
        "print(med_den_row)\n",
        "\n",
        "\n",
        "\n",
        "\n"
      ],
      "execution_count": null,
      "outputs": []
    },
    {
      "cell_type": "code",
      "metadata": {
        "id": "2vG178GLLDiV"
      },
      "source": [
        ""
      ],
      "execution_count": null,
      "outputs": []
    }
  ]
}