{
  "nbformat": 4,
  "nbformat_minor": 0,
  "metadata": {
    "colab": {
      "name": "Hangman",
      "provenance": [],
      "collapsed_sections": [],
      "authorship_tag": "ABX9TyNscel8rqb4yTm+Kh24Yac/",
      "include_colab_link": true
    },
    "kernelspec": {
      "display_name": "Python 3",
      "name": "python3"
    }
  },
  "cells": [
    {
      "cell_type": "markdown",
      "metadata": {
        "id": "view-in-github",
        "colab_type": "text"
      },
      "source": [
        "<a href=\"https://colab.research.google.com/github/janemajor/Repository/blob/master/Hangman.ipynb\" target=\"_parent\"><img src=\"https://colab.research.google.com/assets/colab-badge.svg\" alt=\"Open In Colab\"/></a>"
      ]
    },
    {
      "cell_type": "code",
      "metadata": {
        "id": "juVoQ6d00YeD"
      },
      "source": [
        "def chooseWord():\n",
        "  return \"moon\"\n",
        "\n",
        "myword=chooseWord()\n",
        "\n",
        "my_list = []\n",
        "\n",
        "wrongGuesses=0\n",
        "\n",
        "def print_body(wrongGuesses):\n",
        "  if wrongGuesses == 1:\n",
        "    print(\"  ___  \")\n",
        "    print(\" (o_0) \")\n",
        "  if wrongGuesses == 2:\n",
        "    print(\"  ___  \")\n",
        "    print(\" (o_0) \")\n",
        "    print(\"   | \")\n",
        "    print(\"   |  \")\n",
        "  if wrongGuesses == 3:\n",
        "    print(\"  ___  \")\n",
        "    print(\" (o_0) \")\n",
        "    print(\"  /| \")\n",
        "    print(\" / |  \")\n",
        "  if wrongGuesses == 4:\n",
        "    print(\"  ___  \")\n",
        "    print(\" (o_0) \")\n",
        "    print(\"  /|\\ \")\n",
        "    print(\" / | \\ \")\n",
        "  if wrongGuesses == 5:\n",
        "    print(\"  ___  \")\n",
        "    print(\" (o_0) \")\n",
        "    print(\"  /|\\ \")\n",
        "    print(\" / | \\ \")\n",
        "    print(\"  /   \")\n",
        "    print(\" /    \")\n",
        "  if wrongGuesses == 6:\n",
        "    print(\"  ___  \")\n",
        "    print(\" (o_0) \")\n",
        "    print(\"  /|\\ \")\n",
        "    print(\" / | \\ \")\n",
        "    print(\"  / \\  \")\n",
        "    print(\" /   \\ \")\n",
        "\n",
        "for num in range(len(myword)):\n",
        "  my_list.append(\"-\")\n",
        "while \"-\" in my_list:\n",
        "  firstLetter=input(\"Enter a letter: \")\n",
        "  for num in range(len(myword)):\n",
        "    if firstLetter.lower()==myword[num]:\n",
        "      my_list[num]=firstLetter\n",
        "  if not firstLetter in my_list:\n",
        "    wrongGuesses=wrongGuesses+1\n",
        "    if wrongGuesses==6:\n",
        "      print(\"Uh-oh, you're dead.\")\n",
        "      print_body(wrongGuesses)\n",
        "      break\n",
        "    print_body(wrongGuesses)\n",
        "  print(my_list)\n",
        "\n",
        "print(\"Game Over\")\n",
        "\n"
      ],
      "execution_count": null,
      "outputs": []
    }
  ]
}