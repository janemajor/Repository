{
  "nbformat": 4,
  "nbformat_minor": 0,
  "metadata": {
    "colab": {
      "name": "Assignment 7",
      "provenance": [],
      "authorship_tag": "ABX9TyOiFVrMtZy5EHOMWyLk8/zk",
      "include_colab_link": true
    },
    "kernelspec": {
      "name": "python3",
      "display_name": "Python 3"
    }
  },
  "cells": [
    {
      "cell_type": "markdown",
      "metadata": {
        "id": "view-in-github",
        "colab_type": "text"
      },
      "source": [
        "<a href=\"https://colab.research.google.com/github/janemajor/Repository/blob/master/Assignment_7.ipynb\" target=\"_parent\"><img src=\"https://colab.research.google.com/assets/colab-badge.svg\" alt=\"Open In Colab\"/></a>"
      ]
    },
    {
      "cell_type": "code",
      "metadata": {
        "id": "cjyVIpzZ-UVk",
        "outputId": "f5914195-8fb6-40b6-dcea-fdad88e52e28",
        "colab": {
          "base_uri": "https://localhost:8080/",
          "height": 34
        }
      },
      "source": [
        "#1 \n",
        "hi=\"HeLLo wORld. \"\n",
        "print(hi.upper() + hi.lower() + hi.title())"
      ],
      "execution_count": null,
      "outputs": [
        {
          "output_type": "stream",
          "text": [
            "HELLO WORLD. hello world. Hello World. \n"
          ],
          "name": "stdout"
        }
      ]
    },
    {
      "cell_type": "code",
      "metadata": {
        "id": "fyBng4ydFQCI",
        "outputId": "ffab6c86-3220-4481-e6ff-8b01087168cd",
        "colab": {
          "base_uri": "https://localhost:8080/",
          "height": 85
        }
      },
      "source": [
        "#2\n",
        "def hasVowels(str):\n",
        "  if \"a\" in str:\n",
        "    return True\n",
        "  elif \"e\" in str:\n",
        "    return True\n",
        "  elif \"i\" in str:\n",
        "    return True\n",
        "  elif \"o\" in str:\n",
        "    return True\n",
        "  elif \"u\" in str:\n",
        "    return True\n",
        "  else:\n",
        "    return False\n",
        "while True:\n",
        "    print('Enter a word with vowels:')\n",
        "    age = input()\n",
        "    if hasVowels(age):\n",
        "        break\n",
        "\n",
        "\n",
        "\n"
      ],
      "execution_count": 9,
      "outputs": [
        {
          "output_type": "stream",
          "text": [
            "Enter a word with vowels:\n",
            "wht\n",
            "Enter a word with vowels:\n",
            "okau\n"
          ],
          "name": "stdout"
        }
      ]
    },
    {
      "cell_type": "code",
      "metadata": {
        "id": "3W9zI6xjY1AB"
      },
      "source": [
        "#3\n",
        "vowels = ['a', 'e', 'i', 'o', 'u']\n",
        "\n",
        "def countVowels(x) :\n",
        "  counter=0\n",
        "  for v in (x):\n",
        "    if v in vowels:\n",
        "      counter = counter + 1\n",
        "  return counter\n",
        "\n",
        "\n"
      ],
      "execution_count": 2,
      "outputs": []
    },
    {
      "cell_type": "code",
      "metadata": {
        "id": "CpScSNp_fDe5",
        "outputId": "bad3600f-4ad2-4216-d1d2-18a57d808494",
        "colab": {
          "base_uri": "https://localhost:8080/",
          "height": 119
        }
      },
      "source": [
        "#4\n",
        "list=[]\n",
        "word=input(\"Enter a word\")\n",
        "list.append(word)\n",
        "print(list)\n",
        "while word.lower() != 'stop':\n",
        "  word = input(\"Enter another word, or 'stop' to stop: \")\n",
        "  list.append(word)\n",
        "  print(\"Your list:\", list)"
      ],
      "execution_count": 2,
      "outputs": [
        {
          "output_type": "stream",
          "text": [
            "Enter a wordwoat\n",
            "['woat']\n",
            "Enter another word, or 'stop' to stop: pine\n",
            "Your list: ['woat', 'pine']\n",
            "Enter another word, or 'stop' to stop: stop\n",
            "Your list: ['woat', 'pine', 'stop']\n"
          ],
          "name": "stdout"
        }
      ]
    },
    {
      "cell_type": "code",
      "metadata": {
        "id": "so2eSiLCqa3y"
      },
      "source": [
        "#5\n",
        "wordList = []\n",
        "vowelNum = 0\n",
        "userWord=input(\"Enter a word, or 'stop' to stop. \") \n",
        "while userWord.lower() != 'stop':\n",
        "  wordList.append(userWord)\n",
        "  vowelNum=vowelNum+countVowels(userWord)\n",
        "  userWord=input(\"Enter a word, or 'stop' to stop. \")\n",
        "print(wordList)\n",
        "print(vowelNum)\n"
      ],
      "execution_count": null,
      "outputs": []
    }
  ]
}